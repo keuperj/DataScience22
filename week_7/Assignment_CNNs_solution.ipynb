{
  "nbformat": 4,
  "nbformat_minor": 0,
  "metadata": {
    "accelerator": "GPU",
    "colab": {
      "name": "CNNs_solution.ipynb",
      "provenance": []
    },
    "kernelspec": {
      "display_name": "Python 3",
      "language": "python",
      "name": "python3"
    },
    "language_info": {
      "codemirror_mode": {
        "name": "ipython",
        "version": 3
      },
      "file_extension": ".py",
      "mimetype": "text/x-python",
      "name": "python",
      "nbconvert_exporter": "python",
      "pygments_lexer": "ipython3",
      "version": "3.7.6"
    }
  },
  "cells": [
    {
      "cell_type": "markdown",
      "metadata": {
        "id": "view-in-github"
      },
      "source": [
        "<a href=\"https://colab.research.google.com/github/keuperj/DataScienceSS20/blob/master/Exercises/7_b_CNNs_solution.ipynb\" target=\"_parent\"><img src=\"https://colab.research.google.com/assets/colab-badge.svg\" alt=\"Open In Colab\"/></a>"
      ]
    },
    {
      "cell_type": "markdown",
      "metadata": {
        "id": "NgYV9F8IE2L_"
      },
      "source": [
        "# Image Classification with CNNs\n",
        "![CIFAR10](https://miro.medium.com/max/964/1*syyml8q8s1Yt-iEea5m1Ag.png)\n",
        "\n",
        "[CIFAR 10](https://www.cs.toronto.edu/~kriz/cifar.html) is a small toy data set for image classifaction. \n",
        "\n",
        "* It has 60k images from ten diffenrent classes (like car, airplane, horse,..)\n",
        "* The RGB images are of size 32x32 pixels  "
      ]
    },
    {
      "cell_type": "code",
      "metadata": {
        "colab": {
          "base_uri": "https://localhost:8080/"
        },
        "id": "GiDFXXcUEy-G",
        "outputId": "909f7e70-5ca4-4877-c46c-b76439535b0f"
      },
      "source": [
        "#import needed libs\n",
        "from __future__ import print_function\n",
        "import keras\n",
        "from keras.datasets import cifar10\n",
        "from keras.preprocessing.image import ImageDataGenerator\n",
        "from keras.models import Sequential\n",
        "from keras.layers import Dense, Dropout, Activation, Flatten\n",
        "from keras.layers import Conv2D, MaxPooling2D\n",
        "import os\n",
        "\n",
        "#some vars to controll the training -> use them in your code\n",
        "batch_size = 64\n",
        "num_classes = 10 #fixed!\n",
        "epochs = 100\n",
        "# Get the data, split between train and test sets:\n",
        "(x_train, y_train), (x_test, y_test) = cifar10.load_data()\n",
        "print('x_train shape:', x_train.shape)\n",
        "print(x_train.shape[0], 'train samples')\n",
        "print(x_test.shape[0], 'test samples')\n",
        "\n",
        "# Convert class vectors to binary class matrices.\n",
        "y_train = keras.utils.to_categorical(y_train, num_classes)\n",
        "y_test = keras.utils.to_categorical(y_test, num_classes)"
      ],
      "execution_count": 8,
      "outputs": [
        {
          "output_type": "stream",
          "text": [
            "x_train shape: (50000, 32, 32, 3)\n",
            "50000 train samples\n",
            "10000 test samples\n"
          ],
          "name": "stdout"
        }
      ]
    },
    {
      "cell_type": "markdown",
      "metadata": {
        "id": "vmocaCkIGOIR"
      },
      "source": [
        "## Task:\n",
        "* build and train the ***AlexNet*** CNN architecture from the lecture\n",
        "* use 'relu' functions for the non-linear activation\n",
        "* optimize the learning hyper-paramters to get the best  test accuracy"
      ]
    },
    {
      "cell_type": "code",
      "metadata": {
        "id": "9p5AD8mJEzmL"
      },
      "source": [
        "#build model \n",
        "# because we have smaller images, we use less pooling layers (3), smaller dense layers (128) and \n",
        "# smaller filters (3x3) then the original \n",
        "model = Sequential()\n",
        "\n",
        "model.add(Conv2D(32, (3, 3), activation='relu', kernel_initializer='he_uniform', padding='same', input_shape=(32, 32, 3)))\n",
        "model.add(Conv2D(32, (3, 3), activation='relu', kernel_initializer='he_uniform', padding='same'))\n",
        "model.add(MaxPooling2D((2, 2)))\n",
        "model.add(Dropout(0.2))\n",
        "model.add(Conv2D(64, (3, 3), activation='relu', kernel_initializer='he_uniform', padding='same'))\n",
        "model.add(Conv2D(64, (3, 3), activation='relu', kernel_initializer='he_uniform', padding='same'))\n",
        "model.add(MaxPooling2D((2, 2)))\n",
        "model.add(Dropout(0.2))\n",
        "model.add(Conv2D(128, (3, 3), activation='relu', kernel_initializer='he_uniform', padding='same'))\n",
        "model.add(Conv2D(128, (3, 3), activation='relu', kernel_initializer='he_uniform', padding='same'))\n",
        "model.add(MaxPooling2D((2, 2)))\n",
        "model.add(Dropout(0.2))\n",
        "model.add(Flatten())\n",
        "model.add(Dense(128, activation='relu', kernel_initializer='he_uniform'))\n",
        "model.add(Dropout(0.2))\n",
        "model.add(Dense(10, activation='softmax'))\n",
        "\n"
      ],
      "execution_count": 9,
      "outputs": []
    },
    {
      "cell_type": "code",
      "metadata": {
        "id": "9VeUEB-qMqO5"
      },
      "source": [
        "# initiate optimizer\n",
        "opt = keras.optimizers.SGD(learning_rate=0.001, momentum=.9, decay=1e-6)\n",
        "\n",
        "# compile model\n",
        "model.compile(loss='categorical_crossentropy',\n",
        "              optimizer=opt,\n",
        "              metrics=['accuracy'])"
      ],
      "execution_count": 10,
      "outputs": []
    },
    {
      "cell_type": "code",
      "metadata": {
        "colab": {
          "base_uri": "https://localhost:8080/"
        },
        "id": "iZsF-rIvOc_g",
        "outputId": "fce6e6e8-9529-4ec3-efc3-31fad77d970b"
      },
      "source": [
        "#have a look at the model\n",
        "model.summary()\n"
      ],
      "execution_count": 11,
      "outputs": [
        {
          "output_type": "stream",
          "text": [
            "Model: \"sequential_1\"\n",
            "_________________________________________________________________\n",
            "Layer (type)                 Output Shape              Param #   \n",
            "=================================================================\n",
            "conv2d_6 (Conv2D)            (None, 32, 32, 32)        896       \n",
            "_________________________________________________________________\n",
            "conv2d_7 (Conv2D)            (None, 32, 32, 32)        9248      \n",
            "_________________________________________________________________\n",
            "max_pooling2d_3 (MaxPooling2 (None, 16, 16, 32)        0         \n",
            "_________________________________________________________________\n",
            "dropout_4 (Dropout)          (None, 16, 16, 32)        0         \n",
            "_________________________________________________________________\n",
            "conv2d_8 (Conv2D)            (None, 16, 16, 64)        18496     \n",
            "_________________________________________________________________\n",
            "conv2d_9 (Conv2D)            (None, 16, 16, 64)        36928     \n",
            "_________________________________________________________________\n",
            "max_pooling2d_4 (MaxPooling2 (None, 8, 8, 64)          0         \n",
            "_________________________________________________________________\n",
            "dropout_5 (Dropout)          (None, 8, 8, 64)          0         \n",
            "_________________________________________________________________\n",
            "conv2d_10 (Conv2D)           (None, 8, 8, 128)         73856     \n",
            "_________________________________________________________________\n",
            "conv2d_11 (Conv2D)           (None, 8, 8, 128)         147584    \n",
            "_________________________________________________________________\n",
            "max_pooling2d_5 (MaxPooling2 (None, 4, 4, 128)         0         \n",
            "_________________________________________________________________\n",
            "dropout_6 (Dropout)          (None, 4, 4, 128)         0         \n",
            "_________________________________________________________________\n",
            "flatten_1 (Flatten)          (None, 2048)              0         \n",
            "_________________________________________________________________\n",
            "dense_2 (Dense)              (None, 128)               262272    \n",
            "_________________________________________________________________\n",
            "dropout_7 (Dropout)          (None, 128)               0         \n",
            "_________________________________________________________________\n",
            "dense_3 (Dense)              (None, 10)                1290      \n",
            "=================================================================\n",
            "Total params: 550,570\n",
            "Trainable params: 550,570\n",
            "Non-trainable params: 0\n",
            "_________________________________________________________________\n"
          ],
          "name": "stdout"
        }
      ]
    },
    {
      "cell_type": "code",
      "metadata": {
        "id": "aDXGwp1lNl1j"
      },
      "source": [
        "#pre-processing: normalize data\n",
        "x_train = x_train.astype('float32')\n",
        "x_test = x_test.astype('float32')\n",
        "x_train /= 255\n",
        "x_test /= 255"
      ],
      "execution_count": 12,
      "outputs": []
    },
    {
      "cell_type": "code",
      "metadata": {
        "colab": {
          "base_uri": "https://localhost:8080/"
        },
        "id": "vVr1gAhQNxxi",
        "outputId": "4b03166f-afdf-40fe-c4a3-15c681856407"
      },
      "source": [
        "#train model\n",
        "model.fit(x_train, y_train,\n",
        "              batch_size=batch_size,\n",
        "              epochs=epochs,\n",
        "              shuffle=True)#shuffel is important - otherwise the NN night memorite the sequence of the training data"
      ],
      "execution_count": 13,
      "outputs": [
        {
          "output_type": "stream",
          "text": [
            "Epoch 1/100\n",
            "782/782 [==============================] - 16s 19ms/step - loss: 2.1905 - accuracy: 0.1905\n",
            "Epoch 2/100\n",
            "782/782 [==============================] - 15s 19ms/step - loss: 1.7491 - accuracy: 0.3556\n",
            "Epoch 3/100\n",
            "782/782 [==============================] - 15s 19ms/step - loss: 1.5707 - accuracy: 0.4204\n",
            "Epoch 4/100\n",
            "782/782 [==============================] - 15s 19ms/step - loss: 1.4561 - accuracy: 0.4678\n",
            "Epoch 5/100\n",
            "782/782 [==============================] - 15s 19ms/step - loss: 1.3805 - accuracy: 0.4972\n",
            "Epoch 6/100\n",
            "782/782 [==============================] - 15s 19ms/step - loss: 1.3023 - accuracy: 0.5274\n",
            "Epoch 7/100\n",
            "782/782 [==============================] - 15s 19ms/step - loss: 1.2235 - accuracy: 0.5585\n",
            "Epoch 8/100\n",
            "782/782 [==============================] - 15s 19ms/step - loss: 1.1652 - accuracy: 0.5840\n",
            "Epoch 9/100\n",
            "782/782 [==============================] - 15s 19ms/step - loss: 1.1128 - accuracy: 0.6038\n",
            "Epoch 10/100\n",
            "782/782 [==============================] - 15s 19ms/step - loss: 1.0695 - accuracy: 0.6165\n",
            "Epoch 11/100\n",
            "782/782 [==============================] - 15s 20ms/step - loss: 1.0207 - accuracy: 0.6355\n",
            "Epoch 12/100\n",
            "782/782 [==============================] - 15s 20ms/step - loss: 0.9898 - accuracy: 0.6479\n",
            "Epoch 13/100\n",
            "782/782 [==============================] - 15s 20ms/step - loss: 0.9623 - accuracy: 0.6595\n",
            "Epoch 14/100\n",
            "782/782 [==============================] - 15s 20ms/step - loss: 0.9293 - accuracy: 0.6697\n",
            "Epoch 15/100\n",
            "782/782 [==============================] - 15s 19ms/step - loss: 0.9016 - accuracy: 0.6817\n",
            "Epoch 16/100\n",
            "782/782 [==============================] - 15s 20ms/step - loss: 0.8751 - accuracy: 0.6921\n",
            "Epoch 17/100\n",
            "782/782 [==============================] - 15s 19ms/step - loss: 0.8431 - accuracy: 0.7001\n",
            "Epoch 18/100\n",
            "782/782 [==============================] - 15s 19ms/step - loss: 0.8297 - accuracy: 0.7058\n",
            "Epoch 19/100\n",
            "782/782 [==============================] - 15s 19ms/step - loss: 0.8075 - accuracy: 0.7166\n",
            "Epoch 20/100\n",
            "782/782 [==============================] - 15s 19ms/step - loss: 0.7809 - accuracy: 0.7237\n",
            "Epoch 21/100\n",
            "782/782 [==============================] - 15s 19ms/step - loss: 0.7638 - accuracy: 0.7299\n",
            "Epoch 22/100\n",
            "782/782 [==============================] - 15s 20ms/step - loss: 0.7436 - accuracy: 0.7363\n",
            "Epoch 23/100\n",
            "782/782 [==============================] - 15s 20ms/step - loss: 0.7362 - accuracy: 0.7429\n",
            "Epoch 24/100\n",
            "782/782 [==============================] - 15s 19ms/step - loss: 0.7082 - accuracy: 0.7515\n",
            "Epoch 25/100\n",
            "782/782 [==============================] - 15s 19ms/step - loss: 0.7006 - accuracy: 0.7520\n",
            "Epoch 26/100\n",
            "782/782 [==============================] - 15s 19ms/step - loss: 0.6958 - accuracy: 0.7543\n",
            "Epoch 27/100\n",
            "782/782 [==============================] - 15s 19ms/step - loss: 0.6820 - accuracy: 0.7605\n",
            "Epoch 28/100\n",
            "782/782 [==============================] - 15s 19ms/step - loss: 0.6698 - accuracy: 0.7633\n",
            "Epoch 29/100\n",
            "782/782 [==============================] - 15s 19ms/step - loss: 0.6649 - accuracy: 0.7649\n",
            "Epoch 30/100\n",
            "782/782 [==============================] - 15s 19ms/step - loss: 0.6422 - accuracy: 0.7772\n",
            "Epoch 31/100\n",
            "782/782 [==============================] - 15s 20ms/step - loss: 0.6272 - accuracy: 0.7796\n",
            "Epoch 32/100\n",
            "782/782 [==============================] - 15s 20ms/step - loss: 0.6186 - accuracy: 0.7831\n",
            "Epoch 33/100\n",
            "782/782 [==============================] - 15s 20ms/step - loss: 0.6060 - accuracy: 0.7864\n",
            "Epoch 34/100\n",
            "782/782 [==============================] - 15s 20ms/step - loss: 0.6026 - accuracy: 0.7866\n",
            "Epoch 35/100\n",
            "782/782 [==============================] - 15s 20ms/step - loss: 0.5917 - accuracy: 0.7911\n",
            "Epoch 36/100\n",
            "782/782 [==============================] - 15s 20ms/step - loss: 0.5850 - accuracy: 0.7949\n",
            "Epoch 37/100\n",
            "782/782 [==============================] - 15s 20ms/step - loss: 0.5754 - accuracy: 0.7947\n",
            "Epoch 38/100\n",
            "782/782 [==============================] - 15s 20ms/step - loss: 0.5667 - accuracy: 0.8003\n",
            "Epoch 39/100\n",
            "782/782 [==============================] - 15s 20ms/step - loss: 0.5509 - accuracy: 0.8035\n",
            "Epoch 40/100\n",
            "782/782 [==============================] - 15s 20ms/step - loss: 0.5493 - accuracy: 0.8077\n",
            "Epoch 41/100\n",
            "782/782 [==============================] - 15s 20ms/step - loss: 0.5366 - accuracy: 0.8079\n",
            "Epoch 42/100\n",
            "782/782 [==============================] - 15s 20ms/step - loss: 0.5378 - accuracy: 0.8085\n",
            "Epoch 43/100\n",
            "782/782 [==============================] - 15s 20ms/step - loss: 0.5211 - accuracy: 0.8139\n",
            "Epoch 44/100\n",
            "782/782 [==============================] - 15s 19ms/step - loss: 0.5188 - accuracy: 0.8157\n",
            "Epoch 45/100\n",
            "782/782 [==============================] - 15s 20ms/step - loss: 0.5044 - accuracy: 0.8205\n",
            "Epoch 46/100\n",
            "782/782 [==============================] - 15s 20ms/step - loss: 0.4982 - accuracy: 0.8233\n",
            "Epoch 47/100\n",
            "782/782 [==============================] - 15s 20ms/step - loss: 0.4812 - accuracy: 0.8306\n",
            "Epoch 48/100\n",
            "782/782 [==============================] - 15s 20ms/step - loss: 0.4877 - accuracy: 0.8266\n",
            "Epoch 49/100\n",
            "782/782 [==============================] - 15s 20ms/step - loss: 0.4801 - accuracy: 0.8299\n",
            "Epoch 50/100\n",
            "782/782 [==============================] - 15s 20ms/step - loss: 0.4719 - accuracy: 0.8325\n",
            "Epoch 51/100\n",
            "782/782 [==============================] - 15s 20ms/step - loss: 0.4694 - accuracy: 0.8359\n",
            "Epoch 52/100\n",
            "782/782 [==============================] - 15s 20ms/step - loss: 0.4492 - accuracy: 0.8387\n",
            "Epoch 53/100\n",
            "782/782 [==============================] - 15s 20ms/step - loss: 0.4559 - accuracy: 0.8384\n",
            "Epoch 54/100\n",
            "782/782 [==============================] - 15s 20ms/step - loss: 0.4537 - accuracy: 0.8377\n",
            "Epoch 55/100\n",
            "782/782 [==============================] - 15s 20ms/step - loss: 0.4325 - accuracy: 0.8451\n",
            "Epoch 56/100\n",
            "782/782 [==============================] - 15s 20ms/step - loss: 0.4262 - accuracy: 0.8448\n",
            "Epoch 57/100\n",
            "782/782 [==============================] - 15s 20ms/step - loss: 0.4249 - accuracy: 0.8491\n",
            "Epoch 58/100\n",
            "782/782 [==============================] - 15s 20ms/step - loss: 0.4154 - accuracy: 0.8537\n",
            "Epoch 59/100\n",
            "782/782 [==============================] - 15s 20ms/step - loss: 0.4179 - accuracy: 0.8502\n",
            "Epoch 60/100\n",
            "782/782 [==============================] - 15s 20ms/step - loss: 0.4095 - accuracy: 0.8535\n",
            "Epoch 61/100\n",
            "782/782 [==============================] - 15s 20ms/step - loss: 0.4017 - accuracy: 0.8579\n",
            "Epoch 62/100\n",
            "782/782 [==============================] - 15s 20ms/step - loss: 0.3968 - accuracy: 0.8584\n",
            "Epoch 63/100\n",
            "782/782 [==============================] - 15s 20ms/step - loss: 0.3856 - accuracy: 0.8644\n",
            "Epoch 64/100\n",
            "782/782 [==============================] - 15s 20ms/step - loss: 0.3814 - accuracy: 0.8637\n",
            "Epoch 65/100\n",
            "782/782 [==============================] - 15s 19ms/step - loss: 0.3739 - accuracy: 0.8655\n",
            "Epoch 66/100\n",
            "782/782 [==============================] - 15s 19ms/step - loss: 0.3730 - accuracy: 0.8667\n",
            "Epoch 67/100\n",
            "782/782 [==============================] - 15s 20ms/step - loss: 0.3682 - accuracy: 0.8698\n",
            "Epoch 68/100\n",
            "782/782 [==============================] - 15s 19ms/step - loss: 0.3583 - accuracy: 0.8709\n",
            "Epoch 69/100\n",
            "782/782 [==============================] - 15s 19ms/step - loss: 0.3592 - accuracy: 0.8709\n",
            "Epoch 70/100\n",
            "782/782 [==============================] - 15s 20ms/step - loss: 0.3521 - accuracy: 0.8742\n",
            "Epoch 71/100\n",
            "782/782 [==============================] - 15s 20ms/step - loss: 0.3451 - accuracy: 0.8757\n",
            "Epoch 72/100\n",
            "782/782 [==============================] - 15s 19ms/step - loss: 0.3454 - accuracy: 0.8779\n",
            "Epoch 73/100\n",
            "782/782 [==============================] - 15s 20ms/step - loss: 0.3505 - accuracy: 0.8764\n",
            "Epoch 74/100\n",
            "782/782 [==============================] - 15s 20ms/step - loss: 0.3447 - accuracy: 0.8765\n",
            "Epoch 75/100\n",
            "782/782 [==============================] - 15s 19ms/step - loss: 0.3332 - accuracy: 0.8796\n",
            "Epoch 76/100\n",
            "782/782 [==============================] - 15s 20ms/step - loss: 0.3270 - accuracy: 0.8834\n",
            "Epoch 77/100\n",
            "782/782 [==============================] - 15s 20ms/step - loss: 0.3248 - accuracy: 0.8824\n",
            "Epoch 78/100\n",
            "782/782 [==============================] - 15s 20ms/step - loss: 0.3226 - accuracy: 0.8832\n",
            "Epoch 79/100\n",
            "782/782 [==============================] - 15s 19ms/step - loss: 0.3203 - accuracy: 0.8839\n",
            "Epoch 80/100\n",
            "782/782 [==============================] - 15s 20ms/step - loss: 0.3091 - accuracy: 0.8859\n",
            "Epoch 81/100\n",
            "782/782 [==============================] - 15s 20ms/step - loss: 0.3151 - accuracy: 0.8882\n",
            "Epoch 82/100\n",
            "782/782 [==============================] - 15s 19ms/step - loss: 0.3085 - accuracy: 0.8895\n",
            "Epoch 83/100\n",
            "782/782 [==============================] - 15s 20ms/step - loss: 0.2992 - accuracy: 0.8910\n",
            "Epoch 84/100\n",
            "782/782 [==============================] - 15s 20ms/step - loss: 0.2963 - accuracy: 0.8936\n",
            "Epoch 85/100\n",
            "782/782 [==============================] - 15s 20ms/step - loss: 0.2997 - accuracy: 0.8905\n",
            "Epoch 86/100\n",
            "782/782 [==============================] - 15s 20ms/step - loss: 0.2975 - accuracy: 0.8921\n",
            "Epoch 87/100\n",
            "782/782 [==============================] - 15s 19ms/step - loss: 0.2885 - accuracy: 0.8959\n",
            "Epoch 88/100\n",
            "782/782 [==============================] - 15s 20ms/step - loss: 0.2787 - accuracy: 0.8976\n",
            "Epoch 89/100\n",
            "782/782 [==============================] - 15s 20ms/step - loss: 0.2816 - accuracy: 0.8991\n",
            "Epoch 90/100\n",
            "782/782 [==============================] - 15s 20ms/step - loss: 0.2771 - accuracy: 0.9002\n",
            "Epoch 91/100\n",
            "782/782 [==============================] - 15s 20ms/step - loss: 0.2747 - accuracy: 0.9018\n",
            "Epoch 92/100\n",
            "782/782 [==============================] - 16s 20ms/step - loss: 0.2692 - accuracy: 0.9011\n",
            "Epoch 93/100\n",
            "782/782 [==============================] - 16s 20ms/step - loss: 0.2716 - accuracy: 0.9020\n",
            "Epoch 94/100\n",
            "782/782 [==============================] - 15s 20ms/step - loss: 0.2563 - accuracy: 0.9051\n",
            "Epoch 95/100\n",
            "782/782 [==============================] - 15s 20ms/step - loss: 0.2616 - accuracy: 0.9054\n",
            "Epoch 96/100\n",
            "782/782 [==============================] - 16s 20ms/step - loss: 0.2570 - accuracy: 0.9048\n",
            "Epoch 97/100\n",
            "782/782 [==============================] - 15s 20ms/step - loss: 0.2541 - accuracy: 0.9096\n",
            "Epoch 98/100\n",
            "782/782 [==============================] - 15s 20ms/step - loss: 0.2511 - accuracy: 0.9105\n",
            "Epoch 99/100\n",
            "782/782 [==============================] - 15s 20ms/step - loss: 0.2572 - accuracy: 0.9058\n",
            "Epoch 100/100\n",
            "782/782 [==============================] - 16s 20ms/step - loss: 0.2487 - accuracy: 0.9080\n"
          ],
          "name": "stdout"
        },
        {
          "output_type": "execute_result",
          "data": {
            "text/plain": [
              "<tensorflow.python.keras.callbacks.History at 0x7f7e5ab0b0d0>"
            ]
          },
          "metadata": {
            "tags": []
          },
          "execution_count": 13
        }
      ]
    },
    {
      "cell_type": "code",
      "metadata": {
        "colab": {
          "base_uri": "https://localhost:8080/"
        },
        "id": "SDBx2g1oR0QH",
        "outputId": "ee97efdb-a64b-4e50-b11e-9c994c8741f9"
      },
      "source": [
        "#eval model\n",
        "scores = model.evaluate(x_test, y_test, verbose=1)\n",
        "print('Test loss:', scores[0])\n",
        "print('Test accuracy:', scores[1])"
      ],
      "execution_count": 14,
      "outputs": [
        {
          "output_type": "stream",
          "text": [
            "313/313 [==============================] - 2s 6ms/step - loss: 0.5823 - accuracy: 0.8304\n",
            "Test loss: 0.5822509527206421\n",
            "Test accuracy: 0.8303999900817871\n"
          ],
          "name": "stdout"
        }
      ]
    },
    {
      "cell_type": "code",
      "metadata": {
        "id": "HnCwyNyXR07C"
      },
      "source": [
        ""
      ],
      "execution_count": null,
      "outputs": []
    }
  ]
}