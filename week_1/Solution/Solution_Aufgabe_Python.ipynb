{
 "cells": [
  {
   "cell_type": "markdown",
   "metadata": {},
   "source": [
    "# Exercise I: Your own Python module "
   ]
  },
  {
   "cell_type": "markdown",
   "metadata": {},
   "source": [
    "Write your own python module (choose a name) with the following properties:\n",
    "\n",
    "1. start new python file for the module\n",
    "2. define a class ***ListKeeper*** with the following properties and API:\n",
    "   1. ***Listkeeper*** strores named lists (hint: use dictionaries) \n",
    "   2. it initializes with a list named *example*: [1,2,3,4,5]\n",
    "   3. ``show()`` returns all list names\n",
    "   4. ``add(name, list)`` adds a new list\n",
    "   5. ``delete(name)`` deletes list\n",
    "   6. ``sort(name)`` returns the sorted list *name*\n",
    "   7. ``append(name, list)`` appends *list* to *name* \n",
    "3. add comments and documentation to your class\n",
    "4. Import your module in this notebook\n",
    "5. write tests to check the functionality of your class "
   ]
  },
  {
   "cell_type": "markdown",
   "metadata": {},
   "source": [
    "## Solution"
   ]
  },
  {
   "cell_type": "markdown",
   "metadata": {},
   "source": [
    "### write ListKeeper Class to file"
   ]
  },
  {
   "cell_type": "code",
   "execution_count": 15,
   "metadata": {},
   "outputs": [
    {
     "name": "stdout",
     "output_type": "stream",
     "text": [
      "Overwriting MySuperModule.py\n"
     ]
    }
   ],
   "source": [
    "%%writefile MySuperModule.py\n",
    "\"\"\"\n",
    "Class ListKeeper\n",
    "\n",
    "Keeps a dictionary of lists and provides some methods to operate on the items \n",
    "\"\"\"\n",
    "class ListKeeper:\n",
    "    \"\"\"\n",
    "    There are no private variables in Python, but vars starting with __ are a bit protected \n",
    "    by via renaming through the interpreter (not a security feature!)\n",
    "    \"\"\"\n",
    "    __listDict = dict()\n",
    "    \n",
    "    \"\"\"\n",
    "    __init__()\n",
    "    Constructor\n",
    "    \"\"\"\n",
    "    def __init__(self):\n",
    "        self.__listDict['example'] = [1,2,3,4,5]\n",
    "    \n",
    "    \"\"\"\n",
    "    show()\n",
    "    returns the names (= keys) of all dict items \n",
    "    \"\"\"\n",
    "    def show(self):\n",
    "        return self.__listDict.keys()\n",
    "    \n",
    "    \"\"\"\n",
    "    add()\n",
    "    adds new list to dict\n",
    "    \"\"\"\n",
    "    def add(self,name, newList):\n",
    "        self.__listDict[name] = newList\n",
    "    \n",
    "    \"\"\"\n",
    "    delete()\n",
    "    deletes list from dict\n",
    "    \"\"\"\n",
    "    def delete(self, name):\n",
    "        self.__listDict.pop(name)\n",
    "    \n",
    "    \"\"\"\n",
    "    sort()\n",
    "    sorts list of given name\n",
    "    \"\"\"\n",
    "    def sort(self, name):\n",
    "        self.__listDict[name].sort()\n",
    "    \n",
    "    \"\"\"\n",
    "    append()\n",
    "    appends list to existing entry\n",
    "    \"\"\"\n",
    "    def append(self, name, appList):\n",
    "        self.__listDict[name].extend(appList)\n",
    "        \n",
    "    \"\"\"\n",
    "    __getitem__()\n",
    "    overwrites the [] operator\n",
    "    \"\"\"    \n",
    "    def __getitem__(self, key):\n",
    "        return self.__listDict[key]\n",
    "        \n"
   ]
  },
  {
   "cell_type": "markdown",
   "metadata": {},
   "source": [
    "### import and test class"
   ]
  },
  {
   "cell_type": "code",
   "execution_count": 1,
   "metadata": {},
   "outputs": [],
   "source": [
    "#first set auro reload of modules - this way changes in the module are used right away\n",
    "# NOTE: does not work in Colab -> need to reload the session in colab to reload modules\n",
    "%load_ext autoreload\n",
    "%autoreload 2"
   ]
  },
  {
   "cell_type": "code",
   "execution_count": 2,
   "metadata": {},
   "outputs": [],
   "source": [
    "#import my module\n",
    "import MySuperModule"
   ]
  },
  {
   "cell_type": "code",
   "execution_count": 3,
   "metadata": {},
   "outputs": [],
   "source": [
    "#create an instance of the ListKeeper class\n",
    "LK = MySuperModule.ListKeeper()"
   ]
  },
  {
   "cell_type": "code",
   "execution_count": 4,
   "metadata": {},
   "outputs": [
    {
     "data": {
      "text/plain": [
       "dict_keys(['example'])"
      ]
     },
     "execution_count": 4,
     "metadata": {},
     "output_type": "execute_result"
    }
   ],
   "source": [
    "#show if constructor added default list\n",
    "LK.show()"
   ]
  },
  {
   "cell_type": "code",
   "execution_count": 5,
   "metadata": {},
   "outputs": [
    {
     "data": {
      "text/plain": [
       "[1, 2, 3, 4, 5]"
      ]
     },
     "execution_count": 5,
     "metadata": {},
     "output_type": "execute_result"
    }
   ],
   "source": [
    "LK['example']"
   ]
  },
  {
   "cell_type": "code",
   "execution_count": 6,
   "metadata": {},
   "outputs": [],
   "source": [
    "#test adding a list\n",
    "LK.add('test1',[9,2,7,4,2])\n",
    "LK.add('test_string',[\"hallo\",\"du\",\"tester\",\"AA\"])"
   ]
  },
  {
   "cell_type": "code",
   "execution_count": 7,
   "metadata": {},
   "outputs": [
    {
     "data": {
      "text/plain": [
       "dict_keys(['example', 'test1', 'test_string'])"
      ]
     },
     "execution_count": 7,
     "metadata": {},
     "output_type": "execute_result"
    }
   ],
   "source": [
    "LK.show()"
   ]
  },
  {
   "cell_type": "code",
   "execution_count": 8,
   "metadata": {},
   "outputs": [],
   "source": [
    "#check lists using assert\n",
    "assert LK['test1']==[9,2,7,4,2]"
   ]
  },
  {
   "cell_type": "code",
   "execution_count": 9,
   "metadata": {},
   "outputs": [],
   "source": [
    "#test delete\n",
    "LK.delete('test1')"
   ]
  },
  {
   "cell_type": "code",
   "execution_count": 10,
   "metadata": {},
   "outputs": [
    {
     "data": {
      "text/plain": [
       "dict_keys(['example', 'test_string'])"
      ]
     },
     "execution_count": 10,
     "metadata": {},
     "output_type": "execute_result"
    }
   ],
   "source": [
    "LK.show()\n"
   ]
  },
  {
   "cell_type": "code",
   "execution_count": 11,
   "metadata": {},
   "outputs": [],
   "source": [
    "#test sort\n",
    "LK.sort('test_string')"
   ]
  },
  {
   "cell_type": "code",
   "execution_count": 12,
   "metadata": {},
   "outputs": [
    {
     "data": {
      "text/plain": [
       "['AA', 'du', 'hallo', 'tester']"
      ]
     },
     "execution_count": 12,
     "metadata": {},
     "output_type": "execute_result"
    }
   ],
   "source": [
    "LK['test_string']"
   ]
  },
  {
   "cell_type": "code",
   "execution_count": 13,
   "metadata": {},
   "outputs": [],
   "source": [
    "#test append\n",
    "LK.append('example',[99,23,224,86])"
   ]
  },
  {
   "cell_type": "code",
   "execution_count": 14,
   "metadata": {},
   "outputs": [
    {
     "data": {
      "text/plain": [
       "[1, 2, 3, 4, 5, 99, 23, 224, 86]"
      ]
     },
     "execution_count": 14,
     "metadata": {},
     "output_type": "execute_result"
    }
   ],
   "source": [
    "LK['example']"
   ]
  },
  {
   "cell_type": "code",
   "execution_count": null,
   "metadata": {},
   "outputs": [],
   "source": []
  },
  {
   "cell_type": "code",
   "execution_count": null,
   "metadata": {},
   "outputs": [],
   "source": []
  }
 ],
 "metadata": {
  "kernelspec": {
   "display_name": "Python 3",
   "language": "python",
   "name": "python3"
  },
  "language_info": {
   "codemirror_mode": {
    "name": "ipython",
    "version": 3
   },
   "file_extension": ".py",
   "mimetype": "text/x-python",
   "name": "python",
   "nbconvert_exporter": "python",
   "pygments_lexer": "ipython3",
   "version": "3.7.6"
  }
 },
 "nbformat": 4,
 "nbformat_minor": 4
}
